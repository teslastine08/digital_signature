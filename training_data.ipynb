{
 "cells": [
  {
   "cell_type": "code",
   "execution_count": 1,
   "metadata": {},
   "outputs": [
    {
     "name": "stdout",
     "output_type": "stream",
     "text": [
      "C:/Users/Ankan Sinha/Desktop/SIG_REC(FINAL)/images\n"
     ]
    }
   ],
   "source": [
    "from PIL import Image\n",
    "import numpy as np\n",
    "import sys\n",
    "import os\n",
    "import csv\n",
    "import pandas as pd\n",
    "\n",
    "def createFileList(myDir, format='.jpg'):\n",
    "    fileList = []\n",
    "    print(myDir)\n",
    "    for root, dirs, files in os.walk(myDir, topdown=False):\n",
    "        for name in files:\n",
    "            if name.endswith(format):\n",
    "                fullName = os.path.join(root, name)\n",
    "                fileList.append(fullName)\n",
    "    return fileList\n",
    "\n",
    "myFileList = createFileList('C:/Users/Ankan Sinha/Desktop/SIG_REC(FINAL)/images')\n",
    "\n",
    "for file in myFileList:\n",
    "    print(file)\n",
    "    img_file = Image.open(file)\n",
    "   \n",
    "    width, height = img_file.size\n",
    "    format = img_file.format\n",
    "    mode = img_file.mode\n",
    "\n",
    "    img_grey = img_file.convert('L')\n",
    "\n",
    "    # Save Greyscale values\n",
    "    value = np.asarray(img_grey.getdata(), dtype=np.int).reshape((img_grey.size[1], img_grey.size[0]))\n",
    "    value = value.flatten()\n",
    "    print(value)\n",
    "    with open(\"C:/Users/Ankan Sinha/Desktop/SIG_REC(FINAL)/training/training_set2.csv\", 'a') as f:\n",
    "        writer = csv.writer(f)\n",
    "        writer.writerow(value) "
   ]
  },
  {
   "cell_type": "code",
   "execution_count": null,
   "metadata": {},
   "outputs": [],
   "source": []
  }
 ],
 "metadata": {
  "kernelspec": {
   "display_name": "Python 3",
   "language": "python",
   "name": "python3"
  },
  "language_info": {
   "codemirror_mode": {
    "name": "ipython",
    "version": 3
   },
   "file_extension": ".py",
   "mimetype": "text/x-python",
   "name": "python",
   "nbconvert_exporter": "python",
   "pygments_lexer": "ipython3",
   "version": "3.7.1"
  }
 },
 "nbformat": 4,
 "nbformat_minor": 2
}
